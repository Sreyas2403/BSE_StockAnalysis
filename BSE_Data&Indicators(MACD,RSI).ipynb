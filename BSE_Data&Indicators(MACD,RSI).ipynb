{
  "nbformat": 4,
  "nbformat_minor": 0,
  "metadata": {
    "colab": {
      "provenance": [],
      "authorship_tag": "ABX9TyN5tcpqQ9fAo8j96zCtprGz",
      "include_colab_link": true
    },
    "kernelspec": {
      "name": "python3",
      "display_name": "Python 3"
    },
    "language_info": {
      "name": "python"
    }
  },
  "cells": [
    {
      "cell_type": "markdown",
      "metadata": {
        "id": "view-in-github",
        "colab_type": "text"
      },
      "source": [
        "<a href=\"https://colab.research.google.com/github/Sreyas2403/BSE_StockAnalysis/blob/main/BSE_Data%26Indicators(MACD%2CRSI).ipynb\" target=\"_parent\"><img src=\"https://colab.research.google.com/assets/colab-badge.svg\" alt=\"Open In Colab\"/></a>"
      ]
    },
    {
      "cell_type": "code",
      "source": [
        "!pip install bsedata"
      ],
      "metadata": {
        "colab": {
          "base_uri": "https://localhost:8080/"
        },
        "id": "HD-IwgOZFu3I",
        "outputId": "45e51ad3-102f-47a9-f87a-23a32c797163"
      },
      "execution_count": null,
      "outputs": [
        {
          "output_type": "stream",
          "name": "stdout",
          "text": [
            "Collecting bsedata\n",
            "  Downloading bsedata-0.6.0-py3-none-any.whl.metadata (6.0 kB)\n",
            "Requirement already satisfied: beautifulsoup4 in /usr/local/lib/python3.10/dist-packages (from bsedata) (4.12.3)\n",
            "Requirement already satisfied: requests in /usr/local/lib/python3.10/dist-packages (from bsedata) (2.32.3)\n",
            "Requirement already satisfied: lxml in /usr/local/lib/python3.10/dist-packages (from bsedata) (4.9.4)\n",
            "Requirement already satisfied: soupsieve>1.2 in /usr/local/lib/python3.10/dist-packages (from beautifulsoup4->bsedata) (2.5)\n",
            "Requirement already satisfied: charset-normalizer<4,>=2 in /usr/local/lib/python3.10/dist-packages (from requests->bsedata) (3.3.2)\n",
            "Requirement already satisfied: idna<4,>=2.5 in /usr/local/lib/python3.10/dist-packages (from requests->bsedata) (3.7)\n",
            "Requirement already satisfied: urllib3<3,>=1.21.1 in /usr/local/lib/python3.10/dist-packages (from requests->bsedata) (2.0.7)\n",
            "Requirement already satisfied: certifi>=2017.4.17 in /usr/local/lib/python3.10/dist-packages (from requests->bsedata) (2024.7.4)\n",
            "Downloading bsedata-0.6.0-py3-none-any.whl (15 kB)\n",
            "Installing collected packages: bsedata\n",
            "Successfully installed bsedata-0.6.0\n"
          ]
        }
      ]
    },
    {
      "cell_type": "code",
      "source": [
        "import yfinance as yf\n",
        "import datetime\n",
        "\n",
        "# Define the stock ticker (e.g., 'TCS.BO' for Tata Consultancy Services on BSE)\n",
        "ticker = 'TCS.BO'\n",
        "\n",
        "# Define the time period (last 5 years)\n",
        "end_date = datetime.datetime.now()\n",
        "start_date = end_date - datetime.timedelta(days=5*365)\n",
        "\n",
        "# stock data for past 5 years(we use download function of yfinance here)\n",
        "stock_data = yf.download(ticker, start=start_date, end=end_date)\n",
        "\n",
        "# Display the data\n",
        "print(stock_data)\n",
        "\n",
        "#  save the data to a CSV file\n",
        "stock_data.to_csv(f'{ticker}_5_years_data.csv')\n"
      ],
      "metadata": {
        "colab": {
          "base_uri": "https://localhost:8080/"
        },
        "id": "lskaRUSCGooP",
        "outputId": "bd7aac5d-c264-4b45-b94c-3cf4fac8c0bc"
      },
      "execution_count": null,
      "outputs": [
        {
          "output_type": "stream",
          "name": "stderr",
          "text": [
            "\r[*********************100%%**********************]  1 of 1 completed"
          ]
        },
        {
          "output_type": "stream",
          "name": "stdout",
          "text": [
            "                   Open         High          Low        Close    Adj Close  \\\n",
            "Date                                                                          \n",
            "2019-08-19  2167.000000  2185.000000  2158.199951  2163.550049  1937.337646   \n",
            "2019-08-20  2168.500000  2205.699951  2168.000000  2187.149902  1958.470215   \n",
            "2019-08-21  2187.000000  2202.500000  2180.949951  2185.850098  1957.306641   \n",
            "2019-08-22  2186.050049  2235.000000  2171.000000  2214.899902  1983.319336   \n",
            "2019-08-23  2221.500000  2260.000000  2212.750000  2247.550049  2012.555542   \n",
            "...                 ...          ...          ...          ...          ...   \n",
            "2024-08-08  4178.000000  4231.000000  4160.500000  4170.899902  4170.899902   \n",
            "2024-08-09  4227.950195  4251.500000  4215.000000  4230.049805  4230.049805   \n",
            "2024-08-12  4239.799805  4239.799805  4188.850098  4196.100098  4196.100098   \n",
            "2024-08-13  4211.049805  4232.850098  4183.600098  4195.000000  4195.000000   \n",
            "2024-08-14  4206.149902  4304.200195  4190.899902  4291.649902  4291.649902   \n",
            "\n",
            "            Volume  \n",
            "Date                \n",
            "2019-08-19   45987  \n",
            "2019-08-20  294610  \n",
            "2019-08-21   64591  \n",
            "2019-08-22   67488  \n",
            "2019-08-23   83246  \n",
            "...            ...  \n",
            "2024-08-08   65387  \n",
            "2024-08-09  169602  \n",
            "2024-08-12   46631  \n",
            "2024-08-13   33895  \n",
            "2024-08-14  115005  \n",
            "\n",
            "[1214 rows x 6 columns]\n"
          ]
        },
        {
          "output_type": "stream",
          "name": "stderr",
          "text": [
            "\n"
          ]
        }
      ]
    },
    {
      "cell_type": "code",
      "source": [
        "import yfinance as yf\n",
        "import datetime\n",
        "\n",
        "# Define the stock ticker (e.g., 'SBIN.BO' for SBI on BSE)\n",
        "ticker = 'SBIN.BO'\n",
        "\n",
        "# Define the time period (last 10 years)\n",
        "end_date = datetime.datetime.now()\n",
        "start_date = end_date - datetime.timedelta(days=10*365)\n",
        "\n",
        "#  stock data of past 10 years\n",
        "stock_data = yf.download(ticker, start=start_date, end=end_date)\n",
        "\n",
        "# printing\n",
        "print(stock_data)\n",
        "\n",
        "# save the data to a CSV file\n",
        "stock_data.to_csv(f'{ticker}_5_years_data.csv')\n"
      ],
      "metadata": {
        "colab": {
          "base_uri": "https://localhost:8080/"
        },
        "id": "y_N8i5dvJkYX",
        "outputId": "854141a0-89e1-43ad-f0bb-b982bb7f417f"
      },
      "execution_count": null,
      "outputs": [
        {
          "output_type": "stream",
          "name": "stderr",
          "text": [
            "\r[*********************100%%**********************]  1 of 1 completed"
          ]
        },
        {
          "output_type": "stream",
          "name": "stdout",
          "text": [
            "                  Open        High         Low       Close   Adj Close  \\\n",
            "Date                                                                     \n",
            "2014-08-18  236.050003  242.800003  235.520004  242.029999  218.060699   \n",
            "2014-08-19  243.529999  246.199997  243.024994  243.979996  219.817581   \n",
            "2014-08-20  244.279999  244.869995  240.865005  241.304993  217.407501   \n",
            "2014-08-21  241.789993  247.660004  241.289993  246.779999  222.340302   \n",
            "2014-08-22  247.710007  254.889999  247.500000  252.360001  227.367691   \n",
            "...                ...         ...         ...         ...         ...   \n",
            "2024-08-08  813.849976  817.900024  803.000000  807.650024  807.650024   \n",
            "2024-08-09  816.799988  829.900024  809.849976  824.200012  824.200012   \n",
            "2024-08-12  819.200012  822.599976  810.849976  813.000000  813.000000   \n",
            "2024-08-13  813.099976  819.400024  795.099976  797.299988  797.299988   \n",
            "2024-08-14  800.700012  809.000000  800.400024  802.950012  802.950012   \n",
            "\n",
            "             Volume  \n",
            "Date                 \n",
            "2014-08-18  1986440  \n",
            "2014-08-19  1575120  \n",
            "2014-08-20  2379860  \n",
            "2014-08-21  3417860  \n",
            "2014-08-22  3292810  \n",
            "...             ...  \n",
            "2024-08-08   680135  \n",
            "2024-08-09   822817  \n",
            "2024-08-12  1142861  \n",
            "2024-08-13   641102  \n",
            "2024-08-14   287718  \n",
            "\n",
            "[2438 rows x 6 columns]\n"
          ]
        },
        {
          "output_type": "stream",
          "name": "stderr",
          "text": [
            "\n"
          ]
        }
      ]
    },
    {
      "cell_type": "code",
      "source": [
        "import yfinance as yf\n",
        "import datetime\n",
        "\n",
        "# Define the stock ticker (e.g., 'TCS.BO' for Tata Consultancy Services on BSE)\n",
        "ticker = 'TCS.BO'\n",
        "\n",
        "# Define the time period (last 5 years)\n",
        "end_date = datetime.datetime.now()\n",
        "start_date = end_date - datetime.timedelta(days=5*365)\n",
        "\n",
        "# stock data\n",
        "stock_data = yf.download(ticker, start=start_date, end=end_date)\n",
        "\n",
        "# maximum and minimum closing prices\n",
        "max_close = stock_data['Close'].max()\n",
        "min_close = stock_data['Close'].min()\n",
        "\n",
        "# minimum and maximum volume data\n",
        "max_volume = stock_data['Volume'].max()\n",
        "min_volume = stock_data['Volume'].min()\n",
        "average_volume = stock_data['Volume'].mean()\n",
        "\n",
        "# printing results\n",
        "print(f\"Maximum Closing Price: {max_close}\")\n",
        "print(f\"Minimum Closing Price: {min_close}\")\n",
        "print(f\"Maximum Volume: {max_volume}\")\n",
        "print(f\"Minimum Volume: {min_volume}\")\n",
        "print(f\"Average Volume: {average_volume}\")\n",
        "\n",
        "#  save this summary to a text file\n",
        "with open(f'{ticker}_5_years_summary.txt', 'w') as f:\n",
        "    f.write(f\"Maximum Closing Price: {max_close}\\n\")\n",
        "    f.write(f\"Minimum Closing Price: {min_close}\\n\")\n",
        "    f.write(f\"Maximum Volume: {max_volume}\\n\")\n",
        "    f.write(f\"Minimum Volume: {min_volume}\\n\")\n",
        "    f.write(f\"Average Volume is: {average_volume}\\n\")\n"
      ],
      "metadata": {
        "colab": {
          "base_uri": "https://localhost:8080/"
        },
        "id": "YBMDRbDP2ZMX",
        "outputId": "cf804dac-69f0-40d0-8c28-d744e169c55e"
      },
      "execution_count": null,
      "outputs": [
        {
          "output_type": "stream",
          "name": "stderr",
          "text": [
            "\r[*********************100%%**********************]  1 of 1 completed"
          ]
        },
        {
          "output_type": "stream",
          "name": "stdout",
          "text": [
            "Maximum Closing Price: 4395.75\n",
            "Minimum Closing Price: 1636.0999755859375\n",
            "Maximum Volume: 25582190\n",
            "Minimum Volume: 11292\n",
            "Average Volume: 164320.27924217464\n"
          ]
        },
        {
          "output_type": "stream",
          "name": "stderr",
          "text": [
            "\n"
          ]
        }
      ]
    },
    {
      "cell_type": "code",
      "source": [
        "!pip install yfinance pandas_ta\n"
      ],
      "metadata": {
        "colab": {
          "base_uri": "https://localhost:8080/"
        },
        "id": "t0dE-eI840Sl",
        "outputId": "b4d8dd2f-ffd4-4b36-cadb-464eec5693b1"
      },
      "execution_count": null,
      "outputs": [
        {
          "output_type": "stream",
          "name": "stdout",
          "text": [
            "Requirement already satisfied: yfinance in /usr/local/lib/python3.10/dist-packages (0.2.41)\n",
            "Collecting pandas_ta\n",
            "  Downloading pandas_ta-0.3.14b.tar.gz (115 kB)\n",
            "\u001b[2K     \u001b[90m━━━━━━━━━━━━━━━━━━━━━━━━━━━━━━━━━━━━━━━━\u001b[0m \u001b[32m115.1/115.1 kB\u001b[0m \u001b[31m3.7 MB/s\u001b[0m eta \u001b[36m0:00:00\u001b[0m\n",
            "\u001b[?25h  Preparing metadata (setup.py) ... \u001b[?25l\u001b[?25hdone\n",
            "Requirement already satisfied: pandas>=1.3.0 in /usr/local/lib/python3.10/dist-packages (from yfinance) (2.1.4)\n",
            "Requirement already satisfied: numpy>=1.16.5 in /usr/local/lib/python3.10/dist-packages (from yfinance) (1.26.4)\n",
            "Requirement already satisfied: requests>=2.31 in /usr/local/lib/python3.10/dist-packages (from yfinance) (2.32.3)\n",
            "Requirement already satisfied: multitasking>=0.0.7 in /usr/local/lib/python3.10/dist-packages (from yfinance) (0.0.11)\n",
            "Requirement already satisfied: lxml>=4.9.1 in /usr/local/lib/python3.10/dist-packages (from yfinance) (4.9.4)\n",
            "Requirement already satisfied: platformdirs>=2.0.0 in /usr/local/lib/python3.10/dist-packages (from yfinance) (4.2.2)\n",
            "Requirement already satisfied: pytz>=2022.5 in /usr/local/lib/python3.10/dist-packages (from yfinance) (2024.1)\n",
            "Requirement already satisfied: frozendict>=2.3.4 in /usr/local/lib/python3.10/dist-packages (from yfinance) (2.4.4)\n",
            "Requirement already satisfied: peewee>=3.16.2 in /usr/local/lib/python3.10/dist-packages (from yfinance) (3.17.6)\n",
            "Requirement already satisfied: beautifulsoup4>=4.11.1 in /usr/local/lib/python3.10/dist-packages (from yfinance) (4.12.3)\n",
            "Requirement already satisfied: html5lib>=1.1 in /usr/local/lib/python3.10/dist-packages (from yfinance) (1.1)\n",
            "Requirement already satisfied: soupsieve>1.2 in /usr/local/lib/python3.10/dist-packages (from beautifulsoup4>=4.11.1->yfinance) (2.5)\n",
            "Requirement already satisfied: six>=1.9 in /usr/local/lib/python3.10/dist-packages (from html5lib>=1.1->yfinance) (1.16.0)\n",
            "Requirement already satisfied: webencodings in /usr/local/lib/python3.10/dist-packages (from html5lib>=1.1->yfinance) (0.5.1)\n",
            "Requirement already satisfied: python-dateutil>=2.8.2 in /usr/local/lib/python3.10/dist-packages (from pandas>=1.3.0->yfinance) (2.8.2)\n",
            "Requirement already satisfied: tzdata>=2022.1 in /usr/local/lib/python3.10/dist-packages (from pandas>=1.3.0->yfinance) (2024.1)\n",
            "Requirement already satisfied: charset-normalizer<4,>=2 in /usr/local/lib/python3.10/dist-packages (from requests>=2.31->yfinance) (3.3.2)\n",
            "Requirement already satisfied: idna<4,>=2.5 in /usr/local/lib/python3.10/dist-packages (from requests>=2.31->yfinance) (3.7)\n",
            "Requirement already satisfied: urllib3<3,>=1.21.1 in /usr/local/lib/python3.10/dist-packages (from requests>=2.31->yfinance) (2.0.7)\n",
            "Requirement already satisfied: certifi>=2017.4.17 in /usr/local/lib/python3.10/dist-packages (from requests>=2.31->yfinance) (2024.7.4)\n",
            "Building wheels for collected packages: pandas_ta\n",
            "  Building wheel for pandas_ta (setup.py) ... \u001b[?25l\u001b[?25hdone\n",
            "  Created wheel for pandas_ta: filename=pandas_ta-0.3.14b0-py3-none-any.whl size=218909 sha256=94aeec1b1f2dfb19e9dcfb27929e4dda6569066711488adc22ecb4514212009a\n",
            "  Stored in directory: /root/.cache/pip/wheels/69/00/ac/f7fa862c34b0e2ef320175100c233377b4c558944f12474cf0\n",
            "Successfully built pandas_ta\n",
            "Installing collected packages: pandas_ta\n",
            "Successfully installed pandas_ta-0.3.14b0\n"
          ]
        }
      ]
    },
    {
      "cell_type": "code",
      "source": [
        "import yfinance as yf\n",
        "import pandas_ta as ta\n",
        "import datetime\n",
        "\n",
        "# Define the stock ticker (e.g., 'TCS.BO' for Tata Consultancy Services on BSE)\n",
        "ticker = 'TCS.BO'\n",
        "\n",
        "# Define the time period (e.g., last 5 years)\n",
        "end_date = datetime.datetime.now()\n",
        "start_date = end_date - datetime.timedelta(days=5*365)\n",
        "\n",
        "# stock data\n",
        "stock_data = yf.download(ticker, start=start_date, end=end_date)\n",
        "\n",
        "# Calculating MACD, MACD Signal\n",
        "stock_data['MACD'], stock_data['MACD_Signal'] = ta.macd(stock_data['Close'])[['MACD_12_26_9', 'MACDs_12_26_9']].T.values\n",
        "\n",
        "# Calculating RSI (taking 14-day as my default parameter)\n",
        "stock_data['RSI'] = ta.rsi(stock_data['Close'], length=14)\n",
        "\n",
        "# Calculating RSI-based Moving Average (e.g., 7-day MA of RSI)\n",
        "stock_data['RSI_MA'] = stock_data['RSI'].rolling(window=7).mean()\n",
        "\n",
        "# Display the latest data with calculated indicators\n",
        "print(stock_data[['Close', 'MACD', 'MACD_Signal', 'RSI', 'RSI_MA']].tail(10))\n",
        "\n",
        "#  save the data to a CSV file\n",
        "stock_data.to_csv(f'{ticker}_technical_indicators.csv')\n"
      ],
      "metadata": {
        "colab": {
          "base_uri": "https://localhost:8080/"
        },
        "id": "LoVOsacY6FiH",
        "outputId": "d1554861-af91-4a4b-db48-8c649fab232f"
      },
      "execution_count": null,
      "outputs": [
        {
          "output_type": "stream",
          "name": "stderr",
          "text": [
            "\r[*********************100%%**********************]  1 of 1 completed"
          ]
        },
        {
          "output_type": "stream",
          "name": "stdout",
          "text": [
            "                  Close        MACD  MACD_Signal        RSI     RSI_MA\n",
            "Date                                                                  \n",
            "2024-08-01  4395.750000  123.246807   113.614364  73.934688  73.375194\n",
            "2024-08-02  4283.000000  112.227561   113.337003  59.319877  71.611380\n",
            "2024-08-05  4155.299805   92.128391   109.095281  47.796051  68.083011\n",
            "2024-08-06  4170.700195   76.559804   102.588186  49.080755  64.309049\n",
            "2024-08-07  4200.799805   65.890824    95.248713  51.588384  61.042358\n",
            "2024-08-08  4170.899902   54.395867    87.078144  49.006546  57.722915\n",
            "2024-08-09  4230.049805   49.488462    79.560208  53.919710  54.949430\n",
            "2024-08-12  4196.100098   42.371419    72.122450  50.889046  51.657196\n",
            "2024-08-13  4195.000000   36.224765    64.942913  50.789427  50.438560\n",
            "2024-08-14  4291.649902   38.706157    59.695562  58.479591  51.964780\n"
          ]
        },
        {
          "output_type": "stream",
          "name": "stderr",
          "text": [
            "\n"
          ]
        }
      ]
    },
    {
      "cell_type": "code",
      "source": [
        "import yfinance as yf\n",
        "import pandas_ta as ta\n",
        "import datetime\n",
        "\n",
        "# Define the stock ticker using the BSE code '532540' for TCS\n",
        "ticker = 'TCS.BO'  # TCS on BSE corresponds to the BSE code '532540'\n",
        "\n",
        "# Define the time period (e.g., last 5 years)\n",
        "end_date = datetime.datetime.now()\n",
        "start_date = end_date - datetime.timedelta(days=5*365)\n",
        "\n",
        "# Download the stock data\n",
        "stock_data = yf.download(ticker, start=start_date, end=end_date)\n",
        "\n",
        "# Calculate MACD, MACD Signal\n",
        "stock_data['MACD'], stock_data['MACD_Signal'] = ta.macd(stock_data['Close'])[['MACD_12_26_9', 'MACDs_12_26_9']].T.values\n",
        "\n",
        "# Calculate RSI (14-day default)\n",
        "stock_data['RSI'] = ta.rsi(stock_data['Close'], length=14)\n",
        "\n",
        "# Calculate RSI-based Moving Average (e.g., 7-day MA of RSI)\n",
        "stock_data['RSI_MA'] = stock_data['RSI'].rolling(window=7).mean()\n",
        "\n",
        "# Display the latest data with calculated indicators\n",
        "print(stock_data[['Close', 'MACD', 'MACD_Signal', 'RSI', 'RSI_MA']].tail(10))\n",
        "\n",
        "# Optionally, save the data to a CSV file\n",
        "stock_data.to_csv(f'{ticker}_technical_indicators.csv')\n"
      ],
      "metadata": {
        "colab": {
          "base_uri": "https://localhost:8080/"
        },
        "id": "Fib4XfDO9uyT",
        "outputId": "27eb81c1-7ca8-4ff6-98b0-eb2f1d71c2e6"
      },
      "execution_count": null,
      "outputs": [
        {
          "output_type": "stream",
          "name": "stderr",
          "text": [
            "\r[*********************100%%**********************]  1 of 1 completed"
          ]
        },
        {
          "output_type": "stream",
          "name": "stdout",
          "text": [
            "                  Close        MACD  MACD_Signal        RSI     RSI_MA\n",
            "Date                                                                  \n",
            "2024-08-01  4395.750000  123.246807   113.614364  73.934688  73.375194\n",
            "2024-08-02  4283.000000  112.227561   113.337003  59.319877  71.611380\n",
            "2024-08-05  4155.299805   92.128391   109.095281  47.796051  68.083011\n",
            "2024-08-06  4170.700195   76.559804   102.588186  49.080755  64.309049\n",
            "2024-08-07  4200.799805   65.890824    95.248713  51.588384  61.042358\n",
            "2024-08-08  4170.899902   54.395867    87.078144  49.006546  57.722915\n",
            "2024-08-09  4230.049805   49.488462    79.560208  53.919710  54.949430\n",
            "2024-08-12  4196.100098   42.371419    72.122450  50.889046  51.657196\n",
            "2024-08-13  4195.000000   36.224765    64.942913  50.789427  50.438560\n",
            "2024-08-14  4291.649902   38.706157    59.695562  58.479591  51.964780\n"
          ]
        },
        {
          "output_type": "stream",
          "name": "stderr",
          "text": [
            "\n"
          ]
        }
      ]
    }
  ]
}